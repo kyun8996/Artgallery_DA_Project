{
 "cells": [
  {
   "cell_type": "markdown",
   "id": "9c4a8821",
   "metadata": {},
   "source": [
    "## Step1. 데이터 불러온 뒤 전처리"
   ]
  },
  {
   "cell_type": "code",
   "execution_count": 1,
   "id": "4903d20d",
   "metadata": {},
   "outputs": [],
   "source": [
    "import pandas as pd\n",
    "import numpy as np\n",
    "import os"
   ]
  },
  {
   "cell_type": "markdown",
   "id": "86fd450b",
   "metadata": {},
   "source": [
    "- 소상공인시장진흥공단_상가(상권)정보는 파일이 커서 깃허브에 업로드 x\n",
    "- 링크 : https://www.data.go.kr/data/15083033/fileData.do#layer_data_infomation"
   ]
  },
  {
   "cell_type": "code",
   "execution_count": 2,
   "id": "2781ac70",
   "metadata": {},
   "outputs": [
    {
     "name": "stderr",
     "output_type": "stream",
     "text": [
      "C:\\Users\\zz321\\AppData\\Local\\Temp\\ipykernel_19044\\3593799997.py:21: DtypeWarning: Columns (2) have mixed types. Specify dtype option on import or set low_memory=False.\n",
      "  df_강원 = pd.read_csv(csv_path_강원)\n",
      "C:\\Users\\zz321\\AppData\\Local\\Temp\\ipykernel_19044\\3593799997.py:22: DtypeWarning: Columns (2) have mixed types. Specify dtype option on import or set low_memory=False.\n",
      "  df_경기 = pd.read_csv(csv_path_경기)\n",
      "C:\\Users\\zz321\\AppData\\Local\\Temp\\ipykernel_19044\\3593799997.py:23: DtypeWarning: Columns (2) have mixed types. Specify dtype option on import or set low_memory=False.\n",
      "  df_경남 = pd.read_csv(csv_path_경남)\n",
      "C:\\Users\\zz321\\AppData\\Local\\Temp\\ipykernel_19044\\3593799997.py:24: DtypeWarning: Columns (2) have mixed types. Specify dtype option on import or set low_memory=False.\n",
      "  df_경북 = pd.read_csv(csv_path_경북)\n",
      "C:\\Users\\zz321\\AppData\\Local\\Temp\\ipykernel_19044\\3593799997.py:25: DtypeWarning: Columns (2) have mixed types. Specify dtype option on import or set low_memory=False.\n",
      "  df_광주 = pd.read_csv(csv_path_광주)\n",
      "C:\\Users\\zz321\\AppData\\Local\\Temp\\ipykernel_19044\\3593799997.py:26: DtypeWarning: Columns (2) have mixed types. Specify dtype option on import or set low_memory=False.\n",
      "  df_대구 = pd.read_csv(csv_path_대구)\n",
      "C:\\Users\\zz321\\AppData\\Local\\Temp\\ipykernel_19044\\3593799997.py:27: DtypeWarning: Columns (2) have mixed types. Specify dtype option on import or set low_memory=False.\n",
      "  df_대전 = pd.read_csv(csv_path_대전)\n",
      "C:\\Users\\zz321\\AppData\\Local\\Temp\\ipykernel_19044\\3593799997.py:28: DtypeWarning: Columns (2) have mixed types. Specify dtype option on import or set low_memory=False.\n",
      "  df_부산 = pd.read_csv(csv_path_부산)\n",
      "C:\\Users\\zz321\\AppData\\Local\\Temp\\ipykernel_19044\\3593799997.py:29: DtypeWarning: Columns (2) have mixed types. Specify dtype option on import or set low_memory=False.\n",
      "  df_서울 = pd.read_csv(csv_path_서울)\n",
      "C:\\Users\\zz321\\AppData\\Local\\Temp\\ipykernel_19044\\3593799997.py:31: DtypeWarning: Columns (2,35) have mixed types. Specify dtype option on import or set low_memory=False.\n",
      "  df_울산 = pd.read_csv(csv_path_울산)\n",
      "C:\\Users\\zz321\\AppData\\Local\\Temp\\ipykernel_19044\\3593799997.py:32: DtypeWarning: Columns (2) have mixed types. Specify dtype option on import or set low_memory=False.\n",
      "  df_인천 = pd.read_csv(csv_path_인천)\n",
      "C:\\Users\\zz321\\AppData\\Local\\Temp\\ipykernel_19044\\3593799997.py:33: DtypeWarning: Columns (2) have mixed types. Specify dtype option on import or set low_memory=False.\n",
      "  df_전남 = pd.read_csv(csv_path_전남)\n",
      "C:\\Users\\zz321\\AppData\\Local\\Temp\\ipykernel_19044\\3593799997.py:34: DtypeWarning: Columns (2) have mixed types. Specify dtype option on import or set low_memory=False.\n",
      "  df_전북 = pd.read_csv(csv_path_전북)\n",
      "C:\\Users\\zz321\\AppData\\Local\\Temp\\ipykernel_19044\\3593799997.py:35: DtypeWarning: Columns (2) have mixed types. Specify dtype option on import or set low_memory=False.\n",
      "  df_제주 = pd.read_csv(csv_path_제주)\n",
      "C:\\Users\\zz321\\AppData\\Local\\Temp\\ipykernel_19044\\3593799997.py:36: DtypeWarning: Columns (2) have mixed types. Specify dtype option on import or set low_memory=False.\n",
      "  df_충남 = pd.read_csv(csv_path_충남)\n",
      "C:\\Users\\zz321\\AppData\\Local\\Temp\\ipykernel_19044\\3593799997.py:37: DtypeWarning: Columns (2) have mixed types. Specify dtype option on import or set low_memory=False.\n",
      "  df_충북 = pd.read_csv(csv_path_충북)\n"
     ]
    }
   ],
   "source": [
    "# 파일 경로 설정\n",
    "csv_path_강원 = os.path.join(\"business_data\", \"소상공인시장진흥공단_상가(상권)정보_강원_202406.csv\")\n",
    "csv_path_경기 = os.path.join(\"business_data\", \"소상공인시장진흥공단_상가(상권)정보_경기_202406.csv\")\n",
    "csv_path_경남 = os.path.join(\"business_data\", \"소상공인시장진흥공단_상가(상권)정보_경남_202406.csv\")\n",
    "csv_path_경북 = os.path.join(\"business_data\", \"소상공인시장진흥공단_상가(상권)정보_경북_202406.csv\")\n",
    "csv_path_광주 = os.path.join(\"business_data\", \"소상공인시장진흥공단_상가(상권)정보_광주_202406.csv\")\n",
    "csv_path_대구 = os.path.join(\"business_data\", \"소상공인시장진흥공단_상가(상권)정보_대구_202406.csv\")\n",
    "csv_path_대전 = os.path.join(\"business_data\", \"소상공인시장진흥공단_상가(상권)정보_대전_202406.csv\")\n",
    "csv_path_부산 = os.path.join(\"business_data\", \"소상공인시장진흥공단_상가(상권)정보_부산_202406.csv\")\n",
    "csv_path_서울 = os.path.join(\"business_data\", \"소상공인시장진흥공단_상가(상권)정보_서울_202406.csv\")\n",
    "csv_path_세종 = os.path.join(\"business_data\", \"소상공인시장진흥공단_상가(상권)정보_세종_202406.csv\")\n",
    "csv_path_울산 = os.path.join(\"business_data\", \"소상공인시장진흥공단_상가(상권)정보_울산_202406.csv\")\n",
    "csv_path_인천 = os.path.join(\"business_data\", \"소상공인시장진흥공단_상가(상권)정보_인천_202406.csv\")\n",
    "csv_path_전남 = os.path.join(\"business_data\", \"소상공인시장진흥공단_상가(상권)정보_전남_202406.csv\")\n",
    "csv_path_전북 = os.path.join(\"business_data\", \"소상공인시장진흥공단_상가(상권)정보_전북_202406.csv\")\n",
    "csv_path_제주 = os.path.join(\"business_data\", \"소상공인시장진흥공단_상가(상권)정보_제주_202406.csv\")\n",
    "csv_path_충남 = os.path.join(\"business_data\", \"소상공인시장진흥공단_상가(상권)정보_충남_202406.csv\")\n",
    "csv_path_충북 = os.path.join(\"business_data\", \"소상공인시장진흥공단_상가(상권)정보_충북_202406.csv\")\n",
    "\n",
    "# CSV 읽기\n",
    "df_강원 = pd.read_csv(csv_path_강원)\n",
    "df_경기 = pd.read_csv(csv_path_경기)\n",
    "df_경남 = pd.read_csv(csv_path_경남)\n",
    "df_경북 = pd.read_csv(csv_path_경북)\n",
    "df_광주 = pd.read_csv(csv_path_광주)\n",
    "df_대구 = pd.read_csv(csv_path_대구)\n",
    "df_대전 = pd.read_csv(csv_path_대전)\n",
    "df_부산 = pd.read_csv(csv_path_부산)\n",
    "df_서울 = pd.read_csv(csv_path_서울)\n",
    "df_세종 = pd.read_csv(csv_path_세종)\n",
    "df_울산 = pd.read_csv(csv_path_울산)\n",
    "df_인천 = pd.read_csv(csv_path_인천)\n",
    "df_전남 = pd.read_csv(csv_path_전남)\n",
    "df_전북 = pd.read_csv(csv_path_전북)\n",
    "df_제주 = pd.read_csv(csv_path_제주)\n",
    "df_충남 = pd.read_csv(csv_path_충남)\n",
    "df_충북 = pd.read_csv(csv_path_충북)"
   ]
  },
  {
   "cell_type": "code",
   "execution_count": 3,
   "id": "e77ea1fd",
   "metadata": {},
   "outputs": [],
   "source": [
    "# 1. 지역별 데이터프레임을 리스트로 묶기\n",
    "dfs = [\n",
    "    df_강원, df_경기, df_경남, df_경북, df_광주, df_대구, df_대전,\n",
    "    df_부산, df_서울, df_세종, df_울산, df_인천, df_전남, df_전북,\n",
    "    df_제주, df_충남, df_충북\n",
    "]\n",
    "\n",
    "# 2. concat으로 병합 (index 무시)\n",
    "df_전국 = pd.concat(dfs, ignore_index=True)"
   ]
  },
  {
   "cell_type": "code",
   "execution_count": 4,
   "id": "20b79eee",
   "metadata": {},
   "outputs": [
    {
     "name": "stdout",
     "output_type": "stream",
     "text": [
      "['상가업소번호', '상호명', '지점명', '상권업종대분류코드', '상권업종대분류명', '상권업종중분류코드', '상권업종중분류명', '상권업종소분류코드', '상권업종소분류명', '표준산업분류코드', '표준산업분류명', '시도코드', '시도명', '시군구코드', '시군구명', '행정동코드', '행정동명', '법정동코드', '법정동명', '지번코드', '대지구분코드', '대지구분명', '지번본번지', '지번부번지', '지번주소', '도로명코드', '도로명', '건물본번지', '건물부번지', '건물관리번호', '건물명', '도로명주소', '구우편번호', '신우편번호', '동정보', '층정보', '호정보', '경도', '위도']\n"
     ]
    }
   ],
   "source": [
    "columns_list_전국 = list(df_전국.columns)\n",
    "print(columns_list_전국)"
   ]
  },
  {
   "cell_type": "markdown",
   "id": "42865742",
   "metadata": {},
   "source": [
    "- '시도명', '시군구명', '행정동명', '상권업종대분류명' 추출"
   ]
  },
  {
   "cell_type": "code",
   "execution_count": 5,
   "id": "5f454cec",
   "metadata": {},
   "outputs": [],
   "source": [
    "# 1. 필요한 칼럼만 선택\n",
    "df_filtered_전국 = df_전국[['시도명','시군구명', '행정동명', '상권업종대분류명']]\n",
    "\n",
    "# 2. 음식 업종만 필터링\n",
    "df_food_전국 = df_filtered_전국[df_filtered_전국['상권업종대분류명'] == '음식']\n",
    "\n",
    "# 3. 시군구명 + 행정동명 기준으로 그룹화 후 개수 세기\n",
    "df_result_전국 = df_food_전국.groupby(['시도명', '시군구명', '행정동명']).size().reset_index(name='개수')"
   ]
  },
  {
   "cell_type": "code",
   "execution_count": 6,
   "id": "5dee5f84",
   "metadata": {},
   "outputs": [
    {
     "name": "stdout",
     "output_type": "stream",
     "text": [
      "<class 'pandas.core.frame.DataFrame'>\n",
      "RangeIndex: 3544 entries, 0 to 3543\n",
      "Data columns (total 4 columns):\n",
      " #   Column  Non-Null Count  Dtype \n",
      "---  ------  --------------  ----- \n",
      " 0   시도명     3544 non-null   object\n",
      " 1   시군구명    3544 non-null   object\n",
      " 2   행정동명    3544 non-null   object\n",
      " 3   개수      3544 non-null   int64 \n",
      "dtypes: int64(1), object(3)\n",
      "memory usage: 110.9+ KB\n"
     ]
    }
   ],
   "source": [
    "df_result_전국.info()"
   ]
  },
  {
   "cell_type": "code",
   "execution_count": 7,
   "id": "825e31bd",
   "metadata": {},
   "outputs": [
    {
     "data": {
      "text/plain": [
       "(3544, 4)"
      ]
     },
     "execution_count": 7,
     "metadata": {},
     "output_type": "execute_result"
    }
   ],
   "source": [
    "df_result_전국.shape"
   ]
  },
  {
   "cell_type": "code",
   "execution_count": 8,
   "id": "0b4c8a4a",
   "metadata": {},
   "outputs": [
    {
     "data": {
      "text/html": [
       "<div>\n",
       "<style scoped>\n",
       "    .dataframe tbody tr th:only-of-type {\n",
       "        vertical-align: middle;\n",
       "    }\n",
       "\n",
       "    .dataframe tbody tr th {\n",
       "        vertical-align: top;\n",
       "    }\n",
       "\n",
       "    .dataframe thead th {\n",
       "        text-align: right;\n",
       "    }\n",
       "</style>\n",
       "<table border=\"1\" class=\"dataframe\">\n",
       "  <thead>\n",
       "    <tr style=\"text-align: right;\">\n",
       "      <th></th>\n",
       "      <th>시도명</th>\n",
       "      <th>시군구명</th>\n",
       "      <th>행정동명</th>\n",
       "      <th>개수</th>\n",
       "    </tr>\n",
       "  </thead>\n",
       "  <tbody>\n",
       "    <tr>\n",
       "      <th>1921</th>\n",
       "      <td>부산광역시</td>\n",
       "      <td>중구</td>\n",
       "      <td>중앙동</td>\n",
       "      <td>485</td>\n",
       "    </tr>\n",
       "    <tr>\n",
       "      <th>2441</th>\n",
       "      <td>울산광역시</td>\n",
       "      <td>중구</td>\n",
       "      <td>중앙동</td>\n",
       "      <td>551</td>\n",
       "    </tr>\n",
       "  </tbody>\n",
       "</table>\n",
       "</div>"
      ],
      "text/plain": [
       "        시도명 시군구명 행정동명   개수\n",
       "1921  부산광역시   중구  중앙동  485\n",
       "2441  울산광역시   중구  중앙동  551"
      ]
     },
     "execution_count": 8,
     "metadata": {},
     "output_type": "execute_result"
    }
   ],
   "source": [
    "df_result_전국[\n",
    "    (df_result_전국['시군구명'] == '중구') & \n",
    "    (df_result_전국['행정동명'] == '중앙동')\n",
    "]"
   ]
  },
  {
   "cell_type": "markdown",
   "id": "45f038e5",
   "metadata": {},
   "source": [
    "## Step2. 상권(음식점)데이터와 2024년 미술관 시설 데이터 JOIN"
   ]
  },
  {
   "cell_type": "code",
   "execution_count": 9,
   "id": "638f2516",
   "metadata": {},
   "outputs": [
    {
     "data": {
      "text/html": [
       "<div>\n",
       "<style scoped>\n",
       "    .dataframe tbody tr th:only-of-type {\n",
       "        vertical-align: middle;\n",
       "    }\n",
       "\n",
       "    .dataframe tbody tr th {\n",
       "        vertical-align: top;\n",
       "    }\n",
       "\n",
       "    .dataframe thead th {\n",
       "        text-align: right;\n",
       "    }\n",
       "</style>\n",
       "<table border=\"1\" class=\"dataframe\">\n",
       "  <thead>\n",
       "    <tr style=\"text-align: right;\">\n",
       "      <th></th>\n",
       "      <th>FCLTY_NM</th>\n",
       "      <th>CTPRVN_NM</th>\n",
       "      <th>SIGNGU_NM</th>\n",
       "      <th>ADSTRD_NM</th>\n",
       "      <th>DATA_CO</th>\n",
       "      <th>TOT_PROGRM_CO</th>\n",
       "      <th>VIEWNG_PRICE</th>\n",
       "      <th>ARTGR_EMP_CO</th>\n",
       "      <th>BULD_AR_VALUE</th>\n",
       "      <th>DSPY_AR_CN</th>\n",
       "      <th>FLAG_NM</th>\n",
       "      <th>VIEWNG_NMPR_CO</th>\n",
       "    </tr>\n",
       "  </thead>\n",
       "  <tbody>\n",
       "    <tr>\n",
       "      <th>0</th>\n",
       "      <td>국립현대미술관(과천관)</td>\n",
       "      <td>경기</td>\n",
       "      <td>과천시</td>\n",
       "      <td>문원동</td>\n",
       "      <td>67242</td>\n",
       "      <td>18.0</td>\n",
       "      <td>3000</td>\n",
       "      <td>2</td>\n",
       "      <td>37796.80</td>\n",
       "      <td>13788.200</td>\n",
       "      <td>국립</td>\n",
       "      <td>726065</td>\n",
       "    </tr>\n",
       "    <tr>\n",
       "      <th>1</th>\n",
       "      <td>국립현대미술관(서울관)</td>\n",
       "      <td>서울</td>\n",
       "      <td>종로구</td>\n",
       "      <td>삼청동</td>\n",
       "      <td>41891</td>\n",
       "      <td>29.0</td>\n",
       "      <td>7000</td>\n",
       "      <td>2</td>\n",
       "      <td>52125.19</td>\n",
       "      <td>10070.000</td>\n",
       "      <td>국립</td>\n",
       "      <td>2021771</td>\n",
       "    </tr>\n",
       "    <tr>\n",
       "      <th>2</th>\n",
       "      <td>국립현대미술관(덕수궁관)</td>\n",
       "      <td>서울</td>\n",
       "      <td>중구</td>\n",
       "      <td>소공동</td>\n",
       "      <td>2588</td>\n",
       "      <td>1.0</td>\n",
       "      <td>0</td>\n",
       "      <td>2</td>\n",
       "      <td>2247.00</td>\n",
       "      <td>1152.000</td>\n",
       "      <td>국립</td>\n",
       "      <td>212455</td>\n",
       "    </tr>\n",
       "    <tr>\n",
       "      <th>3</th>\n",
       "      <td>국립현대미술관 미술품수장센터(청주관)</td>\n",
       "      <td>충북</td>\n",
       "      <td>청주시</td>\n",
       "      <td>내덕2동</td>\n",
       "      <td>4120</td>\n",
       "      <td>16.0</td>\n",
       "      <td>2000</td>\n",
       "      <td>2</td>\n",
       "      <td>19865.00</td>\n",
       "      <td>3669.000</td>\n",
       "      <td>국립</td>\n",
       "      <td>249556</td>\n",
       "    </tr>\n",
       "    <tr>\n",
       "      <th>4</th>\n",
       "      <td>DDP디자인뮤지엄</td>\n",
       "      <td>서울</td>\n",
       "      <td>중구</td>\n",
       "      <td>광희동</td>\n",
       "      <td>10613</td>\n",
       "      <td>1.0</td>\n",
       "      <td>2750</td>\n",
       "      <td>2</td>\n",
       "      <td>82464.00</td>\n",
       "      <td>1557.000</td>\n",
       "      <td>공립</td>\n",
       "      <td>30396</td>\n",
       "    </tr>\n",
       "    <tr>\n",
       "      <th>...</th>\n",
       "      <td>...</td>\n",
       "      <td>...</td>\n",
       "      <td>...</td>\n",
       "      <td>...</td>\n",
       "      <td>...</td>\n",
       "      <td>...</td>\n",
       "      <td>...</td>\n",
       "      <td>...</td>\n",
       "      <td>...</td>\n",
       "      <td>...</td>\n",
       "      <td>...</td>\n",
       "      <td>...</td>\n",
       "    </tr>\n",
       "    <tr>\n",
       "      <th>273</th>\n",
       "      <td>제주옹기숨미술관</td>\n",
       "      <td>제주</td>\n",
       "      <td>제주시</td>\n",
       "      <td>노형동</td>\n",
       "      <td>100</td>\n",
       "      <td>8.0</td>\n",
       "      <td>7465</td>\n",
       "      <td>2</td>\n",
       "      <td>376.00</td>\n",
       "      <td>189.000</td>\n",
       "      <td>사립</td>\n",
       "      <td>13000</td>\n",
       "    </tr>\n",
       "    <tr>\n",
       "      <th>274</th>\n",
       "      <td>루나폴</td>\n",
       "      <td>제주</td>\n",
       "      <td>서귀포시</td>\n",
       "      <td>안덕면</td>\n",
       "      <td>2588</td>\n",
       "      <td>1.0</td>\n",
       "      <td>10000</td>\n",
       "      <td>1</td>\n",
       "      <td>1592.00</td>\n",
       "      <td>21800.000</td>\n",
       "      <td>사립</td>\n",
       "      <td>148840</td>\n",
       "    </tr>\n",
       "    <tr>\n",
       "      <th>275</th>\n",
       "      <td>포도뮤지엄</td>\n",
       "      <td>제주</td>\n",
       "      <td>서귀포시</td>\n",
       "      <td>안덕면</td>\n",
       "      <td>1338</td>\n",
       "      <td>3.0</td>\n",
       "      <td>7465</td>\n",
       "      <td>1</td>\n",
       "      <td>2658.05</td>\n",
       "      <td>1309.463</td>\n",
       "      <td>사립</td>\n",
       "      <td>76356</td>\n",
       "    </tr>\n",
       "    <tr>\n",
       "      <th>276</th>\n",
       "      <td>포토갤러리자연사랑미술관</td>\n",
       "      <td>제주</td>\n",
       "      <td>서귀포시</td>\n",
       "      <td>표선면</td>\n",
       "      <td>10000</td>\n",
       "      <td>3.0</td>\n",
       "      <td>3000</td>\n",
       "      <td>1</td>\n",
       "      <td>1087.00</td>\n",
       "      <td>829.000</td>\n",
       "      <td>사립</td>\n",
       "      <td>5000</td>\n",
       "    </tr>\n",
       "    <tr>\n",
       "      <th>277</th>\n",
       "      <td>유동룡미술관</td>\n",
       "      <td>제주</td>\n",
       "      <td>제주시</td>\n",
       "      <td>한림읍</td>\n",
       "      <td>100</td>\n",
       "      <td>5.0</td>\n",
       "      <td>30000</td>\n",
       "      <td>2</td>\n",
       "      <td>674.40</td>\n",
       "      <td>357.400</td>\n",
       "      <td>사립</td>\n",
       "      <td>29000</td>\n",
       "    </tr>\n",
       "  </tbody>\n",
       "</table>\n",
       "<p>278 rows × 12 columns</p>\n",
       "</div>"
      ],
      "text/plain": [
       "                 FCLTY_NM CTPRVN_NM SIGNGU_NM ADSTRD_NM  DATA_CO  \\\n",
       "0            국립현대미술관(과천관)        경기       과천시       문원동    67242   \n",
       "1            국립현대미술관(서울관)        서울       종로구       삼청동    41891   \n",
       "2           국립현대미술관(덕수궁관)        서울        중구       소공동     2588   \n",
       "3    국립현대미술관 미술품수장센터(청주관)        충북       청주시      내덕2동     4120   \n",
       "4               DDP디자인뮤지엄        서울        중구       광희동    10613   \n",
       "..                    ...       ...       ...       ...      ...   \n",
       "273              제주옹기숨미술관        제주       제주시       노형동      100   \n",
       "274                   루나폴        제주      서귀포시       안덕면     2588   \n",
       "275                 포도뮤지엄        제주      서귀포시       안덕면     1338   \n",
       "276          포토갤러리자연사랑미술관        제주      서귀포시       표선면    10000   \n",
       "277                유동룡미술관        제주       제주시       한림읍      100   \n",
       "\n",
       "     TOT_PROGRM_CO  VIEWNG_PRICE  ARTGR_EMP_CO  BULD_AR_VALUE  DSPY_AR_CN  \\\n",
       "0             18.0          3000             2       37796.80   13788.200   \n",
       "1             29.0          7000             2       52125.19   10070.000   \n",
       "2              1.0             0             2        2247.00    1152.000   \n",
       "3             16.0          2000             2       19865.00    3669.000   \n",
       "4              1.0          2750             2       82464.00    1557.000   \n",
       "..             ...           ...           ...            ...         ...   \n",
       "273            8.0          7465             2         376.00     189.000   \n",
       "274            1.0         10000             1        1592.00   21800.000   \n",
       "275            3.0          7465             1        2658.05    1309.463   \n",
       "276            3.0          3000             1        1087.00     829.000   \n",
       "277            5.0         30000             2         674.40     357.400   \n",
       "\n",
       "    FLAG_NM  VIEWNG_NMPR_CO  \n",
       "0        국립          726065  \n",
       "1        국립         2021771  \n",
       "2        국립          212455  \n",
       "3        국립          249556  \n",
       "4        공립           30396  \n",
       "..      ...             ...  \n",
       "273      사립           13000  \n",
       "274      사립          148840  \n",
       "275      사립           76356  \n",
       "276      사립            5000  \n",
       "277      사립           29000  \n",
       "\n",
       "[278 rows x 12 columns]"
      ]
     },
     "execution_count": 9,
     "metadata": {},
     "output_type": "execute_result"
    }
   ],
   "source": [
    "# 파일 경로 설정\n",
    "csv_path_art_2024 = os.path.join(\"data\", \"df_ArtData_2024_processed.csv\")\n",
    "\n",
    "# CSV 읽기\n",
    "df_art_DP_2024 = pd.read_csv(csv_path_art_2024)\n",
    "\n",
    "# 데이터프레임 확인\n",
    "df_art_DP_2024"
   ]
  },
  {
   "cell_type": "code",
   "execution_count": 10,
   "id": "70793afc",
   "metadata": {},
   "outputs": [],
   "source": [
    "# df_art_DP_2024 기준으로 left join (시군구명 + 행정동명 기준)\n",
    "df_art_DP_2024_merged = pd.merge(\n",
    "    df_art_DP_2024,\n",
    "    df_result_전국,\n",
    "    left_on=['SIGNGU_NM', 'ADSTRD_NM'],\n",
    "    right_on=['시군구명', '행정동명'],\n",
    "    how='left'\n",
    ")"
   ]
  },
  {
   "cell_type": "code",
   "execution_count": 11,
   "id": "dc8dd8ab",
   "metadata": {},
   "outputs": [
    {
     "name": "stdout",
     "output_type": "stream",
     "text": [
      "<class 'pandas.core.frame.DataFrame'>\n",
      "RangeIndex: 279 entries, 0 to 278\n",
      "Data columns (total 16 columns):\n",
      " #   Column          Non-Null Count  Dtype  \n",
      "---  ------          --------------  -----  \n",
      " 0   FCLTY_NM        279 non-null    object \n",
      " 1   CTPRVN_NM       279 non-null    object \n",
      " 2   SIGNGU_NM       279 non-null    object \n",
      " 3   ADSTRD_NM       279 non-null    object \n",
      " 4   DATA_CO         279 non-null    int64  \n",
      " 5   TOT_PROGRM_CO   279 non-null    float64\n",
      " 6   VIEWNG_PRICE    279 non-null    int64  \n",
      " 7   ARTGR_EMP_CO    279 non-null    int64  \n",
      " 8   BULD_AR_VALUE   279 non-null    float64\n",
      " 9   DSPY_AR_CN      279 non-null    float64\n",
      " 10  FLAG_NM         279 non-null    object \n",
      " 11  VIEWNG_NMPR_CO  279 non-null    int64  \n",
      " 12  시도명             242 non-null    object \n",
      " 13  시군구명            242 non-null    object \n",
      " 14  행정동명            242 non-null    object \n",
      " 15  개수              242 non-null    float64\n",
      "dtypes: float64(4), int64(4), object(8)\n",
      "memory usage: 35.0+ KB\n"
     ]
    }
   ],
   "source": [
    "df_art_DP_2024_merged.info()"
   ]
  },
  {
   "cell_type": "code",
   "execution_count": 12,
   "id": "93692d58",
   "metadata": {},
   "outputs": [],
   "source": [
    "# 1. SIGNGU_NM 기준으로 '개수' 평균 계산 (NaN 제외)\n",
    "mean_per_SIG = df_art_DP_2024_merged.groupby('CTPRVN_NM')['개수'].transform('mean')\n",
    "\n",
    "# 2. '개수' NaN 값만 해당 SIGNGU_NM 평균으로 채우기\n",
    "df_art_DP_2024_merged['개수'] = df_art_DP_2024_merged['개수'].fillna(mean_per_SIG)"
   ]
  },
  {
   "cell_type": "code",
   "execution_count": 13,
   "id": "8f8dc434",
   "metadata": {},
   "outputs": [
    {
     "name": "stdout",
     "output_type": "stream",
     "text": [
      "<class 'pandas.core.frame.DataFrame'>\n",
      "RangeIndex: 279 entries, 0 to 278\n",
      "Data columns (total 16 columns):\n",
      " #   Column          Non-Null Count  Dtype  \n",
      "---  ------          --------------  -----  \n",
      " 0   FCLTY_NM        279 non-null    object \n",
      " 1   CTPRVN_NM       279 non-null    object \n",
      " 2   SIGNGU_NM       279 non-null    object \n",
      " 3   ADSTRD_NM       279 non-null    object \n",
      " 4   DATA_CO         279 non-null    int64  \n",
      " 5   TOT_PROGRM_CO   279 non-null    float64\n",
      " 6   VIEWNG_PRICE    279 non-null    int64  \n",
      " 7   ARTGR_EMP_CO    279 non-null    int64  \n",
      " 8   BULD_AR_VALUE   279 non-null    float64\n",
      " 9   DSPY_AR_CN      279 non-null    float64\n",
      " 10  FLAG_NM         279 non-null    object \n",
      " 11  VIEWNG_NMPR_CO  279 non-null    int64  \n",
      " 12  시도명             242 non-null    object \n",
      " 13  시군구명            242 non-null    object \n",
      " 14  행정동명            242 non-null    object \n",
      " 15  개수              279 non-null    float64\n",
      "dtypes: float64(4), int64(4), object(8)\n",
      "memory usage: 35.0+ KB\n"
     ]
    }
   ],
   "source": [
    "df_art_DP_2024_merged.info()"
   ]
  },
  {
   "cell_type": "code",
   "execution_count": 14,
   "id": "5f0d8a22",
   "metadata": {},
   "outputs": [],
   "source": [
    "# '개수' → 'food_count_by_dong'으로 컬럼명 변경\n",
    "df_art_DP_2024_merged.rename(columns={'개수': 'food_count_by_dong'}, inplace=True)"
   ]
  },
  {
   "cell_type": "code",
   "execution_count": 15,
   "id": "5274914a",
   "metadata": {},
   "outputs": [],
   "source": [
    "# '시도명', '시군구명', '행정동명' 컬럼 삭제\n",
    "df_art_DP_2024_merged.drop(columns=['시도명', '시군구명', '행정동명'], inplace=True)"
   ]
  },
  {
   "cell_type": "code",
   "execution_count": 16,
   "id": "15cba0b0",
   "metadata": {},
   "outputs": [
    {
     "name": "stdout",
     "output_type": "stream",
     "text": [
      "<class 'pandas.core.frame.DataFrame'>\n",
      "RangeIndex: 279 entries, 0 to 278\n",
      "Data columns (total 13 columns):\n",
      " #   Column              Non-Null Count  Dtype  \n",
      "---  ------              --------------  -----  \n",
      " 0   FCLTY_NM            279 non-null    object \n",
      " 1   CTPRVN_NM           279 non-null    object \n",
      " 2   SIGNGU_NM           279 non-null    object \n",
      " 3   ADSTRD_NM           279 non-null    object \n",
      " 4   DATA_CO             279 non-null    int64  \n",
      " 5   TOT_PROGRM_CO       279 non-null    float64\n",
      " 6   VIEWNG_PRICE        279 non-null    int64  \n",
      " 7   ARTGR_EMP_CO        279 non-null    int64  \n",
      " 8   BULD_AR_VALUE       279 non-null    float64\n",
      " 9   DSPY_AR_CN          279 non-null    float64\n",
      " 10  FLAG_NM             279 non-null    object \n",
      " 11  VIEWNG_NMPR_CO      279 non-null    int64  \n",
      " 12  food_count_by_dong  279 non-null    float64\n",
      "dtypes: float64(4), int64(4), object(5)\n",
      "memory usage: 28.5+ KB\n"
     ]
    }
   ],
   "source": [
    "df_art_DP_2024_merged.info()"
   ]
  },
  {
   "cell_type": "code",
   "execution_count": 17,
   "id": "3dfa97d8",
   "metadata": {},
   "outputs": [
    {
     "data": {
      "text/html": [
       "<div>\n",
       "<style scoped>\n",
       "    .dataframe tbody tr th:only-of-type {\n",
       "        vertical-align: middle;\n",
       "    }\n",
       "\n",
       "    .dataframe tbody tr th {\n",
       "        vertical-align: top;\n",
       "    }\n",
       "\n",
       "    .dataframe thead th {\n",
       "        text-align: right;\n",
       "    }\n",
       "</style>\n",
       "<table border=\"1\" class=\"dataframe\">\n",
       "  <thead>\n",
       "    <tr style=\"text-align: right;\">\n",
       "      <th></th>\n",
       "      <th>FCLTY_NM</th>\n",
       "      <th>CTPRVN_NM</th>\n",
       "      <th>SIGNGU_NM</th>\n",
       "      <th>ADSTRD_NM</th>\n",
       "      <th>DATA_CO</th>\n",
       "      <th>TOT_PROGRM_CO</th>\n",
       "      <th>VIEWNG_PRICE</th>\n",
       "      <th>ARTGR_EMP_CO</th>\n",
       "      <th>BULD_AR_VALUE</th>\n",
       "      <th>DSPY_AR_CN</th>\n",
       "      <th>FLAG_NM</th>\n",
       "      <th>VIEWNG_NMPR_CO</th>\n",
       "      <th>food_count_by_dong</th>\n",
       "    </tr>\n",
       "  </thead>\n",
       "  <tbody>\n",
       "    <tr>\n",
       "      <th>85</th>\n",
       "      <td>울산시립미술관</td>\n",
       "      <td>울산</td>\n",
       "      <td>중구</td>\n",
       "      <td>중앙동</td>\n",
       "      <td>2798</td>\n",
       "      <td>20.0</td>\n",
       "      <td>1000</td>\n",
       "      <td>2</td>\n",
       "      <td>12830.0</td>\n",
       "      <td>2318.0</td>\n",
       "      <td>공립</td>\n",
       "      <td>198334</td>\n",
       "      <td>485.0</td>\n",
       "    </tr>\n",
       "    <tr>\n",
       "      <th>86</th>\n",
       "      <td>울산시립미술관</td>\n",
       "      <td>울산</td>\n",
       "      <td>중구</td>\n",
       "      <td>중앙동</td>\n",
       "      <td>2798</td>\n",
       "      <td>20.0</td>\n",
       "      <td>1000</td>\n",
       "      <td>2</td>\n",
       "      <td>12830.0</td>\n",
       "      <td>2318.0</td>\n",
       "      <td>공립</td>\n",
       "      <td>198334</td>\n",
       "      <td>551.0</td>\n",
       "    </tr>\n",
       "  </tbody>\n",
       "</table>\n",
       "</div>"
      ],
      "text/plain": [
       "   FCLTY_NM CTPRVN_NM SIGNGU_NM ADSTRD_NM  DATA_CO  TOT_PROGRM_CO  \\\n",
       "85  울산시립미술관        울산        중구       중앙동     2798           20.0   \n",
       "86  울산시립미술관        울산        중구       중앙동     2798           20.0   \n",
       "\n",
       "    VIEWNG_PRICE  ARTGR_EMP_CO  BULD_AR_VALUE  DSPY_AR_CN FLAG_NM  \\\n",
       "85          1000             2        12830.0      2318.0      공립   \n",
       "86          1000             2        12830.0      2318.0      공립   \n",
       "\n",
       "    VIEWNG_NMPR_CO  food_count_by_dong  \n",
       "85          198334               485.0  \n",
       "86          198334               551.0  "
      ]
     },
     "execution_count": 17,
     "metadata": {},
     "output_type": "execute_result"
    }
   ],
   "source": [
    "df_art_DP_2024_merged[df_art_DP_2024_merged['FCLTY_NM'].duplicated(keep=False)]"
   ]
  },
  {
   "cell_type": "markdown",
   "id": "8b758b6a",
   "metadata": {},
   "source": [
    "- 울산 중구 중앙동의 food_count_by_dong는 551개이다.\n",
    "- 데이터 중복이 발생한 이유는 부산 중구 중앙동이 존재하기 때문"
   ]
  },
  {
   "cell_type": "code",
   "execution_count": 18,
   "id": "50077e0e",
   "metadata": {},
   "outputs": [],
   "source": [
    "df_art_DP_2024_merged = df_art_DP_2024_merged[\n",
    "    ~(\n",
    "        (df_art_DP_2024_merged['CTPRVN_NM'] == '울산') &\n",
    "        (df_art_DP_2024_merged['SIGNGU_NM'] == '중구') &\n",
    "        (df_art_DP_2024_merged['food_count_by_dong'] == 485.0)\n",
    "    )\n",
    "]"
   ]
  },
  {
   "cell_type": "code",
   "execution_count": 19,
   "id": "cf8b81ed",
   "metadata": {},
   "outputs": [],
   "source": [
    "df_art_DP_2024_merged['food_count_by_dong'] = df_art_DP_2024_merged['food_count_by_dong'].astype(int)"
   ]
  },
  {
   "cell_type": "code",
   "execution_count": 20,
   "id": "c9a948b8",
   "metadata": {},
   "outputs": [],
   "source": [
    "# 1. 상대 경로로 저장할 디렉터리 및 파일명 설정\n",
    "csv_dir = os.path.join(\"data\")  # 'data/' 디렉토리\n",
    "csv_filename = \"df_ArtData_2024_Fjoin.csv\"\n",
    "\n",
    "# 2. 전체 경로 구성\n",
    "csv_path = os.path.join(csv_dir, csv_filename)\n",
    "\n",
    "# 3. CSV 파일로 저장\n",
    "df_art_DP_2024_merged.to_csv(csv_path, index=False, encoding='utf-8-sig')"
   ]
  }
 ],
 "metadata": {
  "kernelspec": {
   "display_name": "pythonVM",
   "language": "python",
   "name": "python3"
  },
  "language_info": {
   "codemirror_mode": {
    "name": "ipython",
    "version": 3
   },
   "file_extension": ".py",
   "mimetype": "text/x-python",
   "name": "python",
   "nbconvert_exporter": "python",
   "pygments_lexer": "ipython3",
   "version": "3.11.11"
  }
 },
 "nbformat": 4,
 "nbformat_minor": 5
}
